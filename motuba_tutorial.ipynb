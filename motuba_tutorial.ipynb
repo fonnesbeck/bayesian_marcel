{
 "cells": [
  {
   "cell_type": "markdown",
   "metadata": {},
   "source": [
    "# Bayesian Baseball Monkeys\n",
    "\n",
    "The MARCEL baseball projection model, developed by Tom Tango, is a simple yet effective forecasting system for Major League Baseball (MLB) player performance. Named humorously after Marcel the Monkey, the system is designed to use minimal intelligence, making it straightforward and accessible.\n",
    "\n",
    "![monkey](assets/Marcel-the-Monkey.png)\n",
    "\n",
    "### Key Features of the MARCEL Model\n",
    "\n",
    "1. **Data Utilization**:\n",
    "   - The model uses three years of MLB data, with the most recent year weighted more heavily. This approach ensures that the projections are based on a player's recent performance while still considering their historical data.\n",
    "\n",
    "2. **Regression to the Mean**:\n",
    "   - MARCEL incorporates a regression towards the mean, which helps to temper extreme performances and provide more balanced projections.\n",
    "\n",
    "3. **Age Factor**:\n",
    "   - The model includes an age factor to account for the natural aging process of players, which can affect their performance.\n",
    "\n",
    "4. **Simplicity and Accessibility**:\n",
    "   - The system is designed to be as simple as possible, aiming to represent the \"minimum level of competence\" that should be expected from any forecaster. This simplicity is part of its charm and effectiveness.\n",
    "\n",
    "### Practical Use and Limitations\n",
    "\n",
    "Understandably, Tom Tango does not stand behind these forecasts as definitive predictions but rather as a baseline. He emphasizes that while MARCEL works, it is not designed to be the most sophisticated system available. The model serves as a trustee system, providing a reliable starting point for player projections without requiring extensive computational resources or complex algorithms."
   ]
  },
  {
   "cell_type": "markdown",
   "metadata": {},
   "source": [
    "\n",
    "## A Bayesian Marcel?\n",
    "\n",
    "An interesting exercise is to consider how we might extend the MARCEL by implementing it using Bayesian methods. By incorporating a Bayesian framework, we can introduce uncertainty estimates into the projections, which can be valuable for decision-making and risk assessment. \n",
    "\n",
    "In the spirit of MARCEL, the goal here is not to have a sophisticated model for making accurate projections, but rather to have a simple, general purpose model that can be used to project arbitrary metrics, usually intended to provide baseline one-year-ahead projections. The only difference is that we will now have probabilistic uncertainty estimates around the resulting projections.\n",
    "\n",
    "To this end, there are only three core components to the model:\n",
    "\n",
    "1. Weights for previous seasons, estimated from the data.\n",
    "2. A simple aging function\n",
    "3. A hierarchical random effect for shrinking inputs toward the population mean when data are sparse.\n",
    "\n",
    "## Model description\n",
    "\n",
    "For pitcher $i$ having observed values of some quantity of interest in three consecutive years $y_i^{(t)}, y_i^{(t-1)}, y_i^{(t-2)}$ we are predicting $y_i^{(t+1)}$ via:\n",
    "\n",
    "$$\\theta_i^{(t+1)} = \\mu_i + w_0 (\\theta_i^{(t)}) + w_1 (\\theta_i^{(t-1)}) + w_2 (\\theta_i^{(t-2)}) + \\beta_{28} a_i^{(t+1)}$$\n",
    "\n",
    "where $\\{w_0, w_1, w_2\\}\\sim \\text{Dirichlet}(\\phi)$ are constrained to be ordered and the $\\theta_i$ are partially pooled observations to regress extreme values. For Gaussian data, the likelihood is:\n",
    "\n",
    "$$y_i^{(t)} \\sim N(\\theta_i^{(t)}, \\sigma)$$\n",
    "\n",
    "For other types of data, this likelihood may be binomial or Poisson.\n",
    "\n",
    "The coefficient $\\beta_{28}$ is a simple triangular aging model that is piecewise linear with a switch point at 28 years of age.\n",
    "\n",
    "All inputs are automatically standardized to aid in convergence."
   ]
  },
  {
   "cell_type": "markdown",
   "metadata": {},
   "source": [
    "## Using Motuba\n",
    "\n",
    "The API for Motuba is stolen directly from `scikit-learn`. It is an object-oriented interface, which involves creating an instance of a `Motuba` model, calling the `fit()` method to fit the model, and then calling the `predict()` method to make predictions.\n",
    "\n",
    "Below are a couple of examples that show how Motuba can be used:"
   ]
  },
  {
   "cell_type": "code",
   "execution_count": 1,
   "metadata": {},
   "outputs": [],
   "source": [
    "import pandas as pd\n",
    "import pandas_gbq\n",
    "import numpy as np\n",
    "import seaborn as sns\n",
    "from motuba import Motuba\n",
    "\n",
    "import warnings\n",
    "warnings.filterwarnings(\"ignore\", category=UserWarning)"
   ]
  },
  {
   "cell_type": "markdown",
   "metadata": {},
   "source": [
    "## Data Preparation\n",
    "\n",
    "In order to keep things tidy, `Motuba` expects pandas `DataFrame` and `Series` objects as input (for predictors and targets, respectively) when fitting and predicting. \n",
    "\n",
    "For this example, we will use some pitching data to demonstrate how the model works."
   ]
  },
  {
   "cell_type": "code",
   "execution_count": 4,
   "metadata": {},
   "outputs": [
    {
     "data": {
      "text/html": [
       "<div>\n",
       "<style scoped>\n",
       "    .dataframe tbody tr th:only-of-type {\n",
       "        vertical-align: middle;\n",
       "    }\n",
       "\n",
       "    .dataframe tbody tr th {\n",
       "        vertical-align: top;\n",
       "    }\n",
       "\n",
       "    .dataframe thead th {\n",
       "        text-align: right;\n",
       "    }\n",
       "</style>\n",
       "<table border=\"1\" class=\"dataframe\">\n",
       "  <thead>\n",
       "    <tr style=\"text-align: right;\">\n",
       "      <th></th>\n",
       "      <th>pitcher_id</th>\n",
       "      <th>season</th>\n",
       "      <th>BB_n</th>\n",
       "      <th>FB_n</th>\n",
       "      <th>OS_n</th>\n",
       "      <th>BB_stuff</th>\n",
       "      <th>FB_stuff</th>\n",
       "      <th>OS_stuff</th>\n",
       "      <th>age</th>\n",
       "      <th>pitcher_name</th>\n",
       "    </tr>\n",
       "  </thead>\n",
       "  <tbody>\n",
       "    <tr>\n",
       "      <th>0</th>\n",
       "      <td>112526</td>\n",
       "      <td>2016</td>\n",
       "      <td>177</td>\n",
       "      <td>2501</td>\n",
       "      <td>119</td>\n",
       "      <td>-0.000362</td>\n",
       "      <td>0.004713</td>\n",
       "      <td>0.003833</td>\n",
       "      <td>43</td>\n",
       "      <td>Colon, Bartolo</td>\n",
       "    </tr>\n",
       "    <tr>\n",
       "      <th>1</th>\n",
       "      <td>112526</td>\n",
       "      <td>2017</td>\n",
       "      <td>173</td>\n",
       "      <td>1885</td>\n",
       "      <td>222</td>\n",
       "      <td>-0.000385</td>\n",
       "      <td>0.005473</td>\n",
       "      <td>0.003863</td>\n",
       "      <td>44</td>\n",
       "      <td>Colon, Bartolo</td>\n",
       "    </tr>\n",
       "    <tr>\n",
       "      <th>2</th>\n",
       "      <td>112526</td>\n",
       "      <td>2018</td>\n",
       "      <td>225</td>\n",
       "      <td>1753</td>\n",
       "      <td>248</td>\n",
       "      <td>0.000370</td>\n",
       "      <td>0.006537</td>\n",
       "      <td>0.005597</td>\n",
       "      <td>45</td>\n",
       "      <td>Colon, Bartolo</td>\n",
       "    </tr>\n",
       "    <tr>\n",
       "      <th>3</th>\n",
       "      <td>150274</td>\n",
       "      <td>2016</td>\n",
       "      <td>46</td>\n",
       "      <td>70</td>\n",
       "      <td>3</td>\n",
       "      <td>-0.005253</td>\n",
       "      <td>0.003864</td>\n",
       "      <td>0.005427</td>\n",
       "      <td>42</td>\n",
       "      <td>Nathan, Joe</td>\n",
       "    </tr>\n",
       "    <tr>\n",
       "      <th>4</th>\n",
       "      <td>276351</td>\n",
       "      <td>2016</td>\n",
       "      <td>372</td>\n",
       "      <td>648</td>\n",
       "      <td>26</td>\n",
       "      <td>-0.005756</td>\n",
       "      <td>-0.000349</td>\n",
       "      <td>-0.004083</td>\n",
       "      <td>40</td>\n",
       "      <td>Grilli, Jason</td>\n",
       "    </tr>\n",
       "  </tbody>\n",
       "</table>\n",
       "</div>"
      ],
      "text/plain": [
       "   pitcher_id  season  BB_n  FB_n  OS_n  BB_stuff  FB_stuff  OS_stuff  age  \\\n",
       "0      112526    2016   177  2501   119 -0.000362  0.004713  0.003833   43   \n",
       "1      112526    2017   173  1885   222 -0.000385  0.005473  0.003863   44   \n",
       "2      112526    2018   225  1753   248  0.000370  0.006537  0.005597   45   \n",
       "3      150274    2016    46    70     3 -0.005253  0.003864  0.005427   42   \n",
       "4      276351    2016   372   648    26 -0.005756 -0.000349 -0.004083   40   \n",
       "\n",
       "     pitcher_name  \n",
       "0  Colon, Bartolo  \n",
       "1  Colon, Bartolo  \n",
       "2  Colon, Bartolo  \n",
       "3     Nathan, Joe  \n",
       "4   Grilli, Jason  "
      ]
     },
     "execution_count": 4,
     "metadata": {},
     "output_type": "execute_result"
    }
   ],
   "source": [
    "input_data = (pitch_usage.join(stuff_values, lsuffix=\"_n\", rsuffix=\"_stuff\").join(\n",
    "        df.drop_duplicates(subset=[\"pitcher_id\", \"season\"]).set_index(\n",
    "            [\"pitcher_id\", \"season\"]\n",
    "        )[[\"age\", \"pitcher_name\"]]\n",
    "    )\n",
    ").reset_index()\n",
    "\n",
    "input_data.head()"
   ]
  },
  {
   "cell_type": "markdown",
   "metadata": {},
   "source": [
    "As is common to most statistical or machine learning modeling workflows, there are (at least) two distinct stages to the analysis: a **model fitting** stage and a **prediction** stage. With Motuba, the model fitting stage will include three time steps of input data (here we are dealing with annual summary data, but can be months, weeks, games or any other unit) and a fourth subsequent time step that we have observed and are using as a target for prediction. Having fit the model, the prediction stage uses just three time steps of input data, and then tries to predict the fourth stage. In machine learning parlance, you often hear the model fitting data called the **training set** and the prediction data called the **test set**. \n",
    "\n",
    "To make this concrete, we may fit a model using 2019-2021 data with 2022 as a target outcome, and then use 2020-2022 inputs to generate predictions for 2023. In principle, the inputs need not be the same three time periods -- you could use 2017-2019 or any other three periods for which you have observations of a fourth.\n",
    "\n",
    "The data above shows stuff scores for each of three general pitch types, where each row is a pitcher-year. For use with Motuba, this data needs to be broken into 4 data structures:\n",
    "\n",
    "1. a grid of input data observations and player ages\n",
    "2. a grid of sample sizes corresponding with each observation in (1)\n",
    "3. a vector of target data observations (model fitting only)\n",
    "4. a vector of target data sample sizes (model fitting only)\n",
    "\n",
    "Since we are using Python, the data grids will be pandas `DataFrame` objects and vectors will be `Series` objects. A key feature of these data structures is that both have an `index` that uniquely represents players corresponding to the rows of data. The indices should be some unique identifier, commonly a `bam_id` or even a player name (it need not be numeric).\n",
    "\n",
    "The input grid should have 4 columns, consisting of the following:\n",
    "\n",
    "- three columns representing data from consecutive time periods prior to the prediction time\n",
    "- a column of ages corresponding to ages in the prediction year\n",
    "\n",
    "These columns can be named anything you like, and the name of the age column will be passed explicitly to the model, as you will see.\n",
    "\n",
    "Let's look at fastball stuff"
   ]
  },
  {
   "cell_type": "code",
   "execution_count": 5,
   "metadata": {},
   "outputs": [],
   "source": [
    "pred_year = 2021\n",
    "var_name = 'FB_stuff'\n",
    "n_var_name = 'FB_n'"
   ]
  },
  {
   "cell_type": "markdown",
   "metadata": {},
   "source": [
    "So, we will be using years 2018-2020 to fit to 2021 outcomes, where the values are fastball stuff estimates. The sample size will be the number of fastballs thrown by each pitcher in each year. \n",
    "\n",
    "For convenience, we are using players who have complete data over all 4 seasons."
   ]
  },
  {
   "cell_type": "code",
   "execution_count": 6,
   "metadata": {},
   "outputs": [],
   "source": [
    "input_grid = (\n",
    "    input_data[\n",
    "        input_data.season.isin(np.arange(pred_year - 3, pred_year + 1))\n",
    "    ]\n",
    "    .pivot(index=\"pitcher_id\", columns=\"season\", values=var_name)\n",
    "    .dropna()\n",
    "    .astype(input_data[var_name].dtype)\n",
    ")\n",
    "n_grid = (\n",
    "    input_data[\n",
    "        input_data.season.isin(np.arange(pred_year - 3, pred_year + 1))\n",
    "    ]\n",
    "    .pivot(index=\"pitcher_id\", columns=\"season\", values=n_var_name)\n",
    "    .loc[input_grid.index]\n",
    "    .astype(int)\n",
    ")\n",
    "\n",
    "y = input_grid.pop(pred_year)\n",
    "X = input_grid[np.arange(pred_year - 3, pred_year)]\n",
    "N_x = n_grid[np.arange(pred_year - 3, pred_year)]\n",
    "N_y = n_grid[pred_year]\n",
    "X[\"age\"] = (\n",
    "    input_data[input_data.season == pred_year]\n",
    "    .set_index(\"pitcher_id\")\n",
    "    .age.loc[input_grid.index]\n",
    ")"
   ]
  },
  {
   "cell_type": "markdown",
   "metadata": {},
   "source": [
    "Its helpful to be familiar with the pandas [`pivot` method](https://pandas.pydata.org/docs/reference/api/pandas.DataFrame.pivot.html) when you reshape the data!"
   ]
  },
  {
   "cell_type": "code",
   "execution_count": 7,
   "metadata": {},
   "outputs": [
    {
     "data": {
      "text/html": [
       "<div>\n",
       "<style scoped>\n",
       "    .dataframe tbody tr th:only-of-type {\n",
       "        vertical-align: middle;\n",
       "    }\n",
       "\n",
       "    .dataframe tbody tr th {\n",
       "        vertical-align: top;\n",
       "    }\n",
       "\n",
       "    .dataframe thead th {\n",
       "        text-align: right;\n",
       "    }\n",
       "</style>\n",
       "<table border=\"1\" class=\"dataframe\">\n",
       "  <thead>\n",
       "    <tr style=\"text-align: right;\">\n",
       "      <th>season</th>\n",
       "      <th>2018</th>\n",
       "      <th>2019</th>\n",
       "      <th>2020</th>\n",
       "      <th>age</th>\n",
       "    </tr>\n",
       "    <tr>\n",
       "      <th>pitcher_id</th>\n",
       "      <th></th>\n",
       "      <th></th>\n",
       "      <th></th>\n",
       "      <th></th>\n",
       "    </tr>\n",
       "  </thead>\n",
       "  <tbody>\n",
       "    <tr>\n",
       "      <th>424144</th>\n",
       "      <td>0.001258</td>\n",
       "      <td>-0.000809</td>\n",
       "      <td>0.002032</td>\n",
       "      <td>40</td>\n",
       "    </tr>\n",
       "    <tr>\n",
       "      <th>425794</th>\n",
       "      <td>0.008061</td>\n",
       "      <td>0.009068</td>\n",
       "      <td>0.011001</td>\n",
       "      <td>40</td>\n",
       "    </tr>\n",
       "    <tr>\n",
       "      <th>425844</th>\n",
       "      <td>0.005681</td>\n",
       "      <td>0.006300</td>\n",
       "      <td>0.003571</td>\n",
       "      <td>38</td>\n",
       "    </tr>\n",
       "    <tr>\n",
       "      <th>433589</th>\n",
       "      <td>0.005343</td>\n",
       "      <td>0.005318</td>\n",
       "      <td>0.004676</td>\n",
       "      <td>37</td>\n",
       "    </tr>\n",
       "    <tr>\n",
       "      <th>445213</th>\n",
       "      <td>0.006462</td>\n",
       "      <td>0.004617</td>\n",
       "      <td>0.007440</td>\n",
       "      <td>37</td>\n",
       "    </tr>\n",
       "  </tbody>\n",
       "</table>\n",
       "</div>"
      ],
      "text/plain": [
       "season          2018      2019      2020  age\n",
       "pitcher_id                                   \n",
       "424144      0.001258 -0.000809  0.002032   40\n",
       "425794      0.008061  0.009068  0.011001   40\n",
       "425844      0.005681  0.006300  0.003571   38\n",
       "433589      0.005343  0.005318  0.004676   37\n",
       "445213      0.006462  0.004617  0.007440   37"
      ]
     },
     "execution_count": 7,
     "metadata": {},
     "output_type": "execute_result"
    }
   ],
   "source": [
    "X.head()"
   ]
  },
  {
   "cell_type": "markdown",
   "metadata": {},
   "source": [
    "Notice in the above that `pitcher_id` is the `index`. The values do not need to be scaled in any way--Motuba will do this under the hood automatically as needed."
   ]
  },
  {
   "cell_type": "code",
   "execution_count": 8,
   "metadata": {},
   "outputs": [
    {
     "data": {
      "text/plain": [
       "pitcher_id\n",
       "424144    0.004205\n",
       "425794    0.013272\n",
       "425844    0.010192\n",
       "433589    0.006339\n",
       "445213    0.008103\n",
       "Name: 2021, dtype: float64"
      ]
     },
     "execution_count": 8,
     "metadata": {},
     "output_type": "execute_result"
    }
   ],
   "source": [
    "y.head()"
   ]
  },
  {
   "cell_type": "markdown",
   "metadata": {},
   "source": [
    "Since the response variable is just an additional year of data, it is in a `Series` object (though a one-column `DataFrame` ought to work as well). Notice that the index is the same."
   ]
  },
  {
   "cell_type": "code",
   "execution_count": 9,
   "metadata": {},
   "outputs": [],
   "source": [
    "assert (y.index==X.index).all()"
   ]
  },
  {
   "cell_type": "markdown",
   "metadata": {},
   "source": [
    "For this example, I'm just going to use a subset of the whole dataset for fitting and a (much smaller) subset for prediction, as you typically see in traditional machine learning validation exercises. Specifically, I will do a 80:20 split:"
   ]
  },
  {
   "cell_type": "code",
   "execution_count": 10,
   "metadata": {},
   "outputs": [],
   "source": [
    "all_pitchers = X.index.unique().values\n",
    "fit_pitchers = all_pitchers[:int(len(all_pitchers)*0.8)]\n",
    "pred_pitchers = all_pitchers[int(len(all_pitchers)*0.8):]"
   ]
  },
  {
   "cell_type": "markdown",
   "metadata": {},
   "source": [
    "We are now ready to initialize a model. Again, Motuba uses a scikit-learn-like API, which first involves creating an **instance** of Motuba. This involves providing some information about your model, and getting an initialized `Motuba` object in return that can be used for fitting and projecting.\n",
    "\n",
    "As a user, you specify 1-3 arguments for the initialization:\n",
    "\n",
    "- `total_players`: the total number of players to be involved in the analysis, both in the fitting and predicting steps.\n",
    "- `model_type`: the type of model to be fit (discussed below)\n",
    "- `peak_age`: the inflection point in age where player performance begins to decline\n",
    "\n",
    "Only `total_players` is a required argument. If you do not specify a `model_type` then a \"normal\" model will be assumed and if you do not specify a `peak_age` then age 28 will be used as a default.\n",
    "\n"
   ]
  },
  {
   "cell_type": "code",
   "execution_count": 11,
   "metadata": {},
   "outputs": [],
   "source": [
    "fb_stuff_model = Motuba(model_type='normal')"
   ]
  },
  {
   "cell_type": "markdown",
   "metadata": {},
   "source": [
    "We now have an instantiated `Motuba` object:"
   ]
  },
  {
   "cell_type": "code",
   "execution_count": 12,
   "metadata": {},
   "outputs": [
    {
     "data": {
      "text/plain": [
       "<motuba.Motuba at 0x7f7229fbb790>"
      ]
     },
     "execution_count": 12,
     "metadata": {},
     "output_type": "execute_result"
    }
   ],
   "source": [
    "fb_stuff_model"
   ]
  },
  {
   "cell_type": "markdown",
   "metadata": {},
   "source": [
    "The next step is model fitting: this is where we pass the data to the model and let it do its thing. There needs to be four data structures passed to `fit`, including input values and sample sizes (the \"X\" values and their associated weights) and the target values and their sample sizes (the \"y\" values and weights)."
   ]
  },
  {
   "cell_type": "code",
   "execution_count": 13,
   "metadata": {},
   "outputs": [],
   "source": [
    "X_fit = X.loc[fit_pitchers]\n",
    "y_fit = y.loc[fit_pitchers]\n",
    "\n",
    "N_x_fit = N_x.loc[fit_pitchers]\n",
    "N_y_fit = N_y.loc[fit_pitchers]"
   ]
  },
  {
   "attachments": {},
   "cell_type": "markdown",
   "metadata": {},
   "source": [
    "The other input of interest is the column name of the age variable to be used in fitting a triangular aging curve. The default for this is \"age\", but you can call it whatever you like as long as you pass it to `fit` as the `age_col` argument. I've included it here just to be explicit."
   ]
  },
  {
   "cell_type": "code",
   "execution_count": 14,
   "metadata": {},
   "outputs": [
    {
     "name": "stderr",
     "output_type": "stream",
     "text": [
      "Auto-assigning NUTS sampler...\n",
      "Initializing NUTS using jitter+adapt_diag...\n",
      "Multiprocess sampling (4 chains in 4 jobs)\n",
      "NUTS: [mu, tau, z, sigma, w, beta]\n"
     ]
    },
    {
     "data": {
      "text/html": [
       "\n",
       "<style>\n",
       "    /* Turns off some styling */\n",
       "    progress {\n",
       "        /* gets rid of default border in Firefox and Opera. */\n",
       "        border: none;\n",
       "        /* Needs to be in here for Safari polyfill so background images work as expected. */\n",
       "        background-size: auto;\n",
       "    }\n",
       "    progress:not([value]), progress:not([value])::-webkit-progress-bar {\n",
       "        background: repeating-linear-gradient(45deg, #7e7e7e, #7e7e7e 10px, #5c5c5c 10px, #5c5c5c 20px);\n",
       "    }\n",
       "    .progress-bar-interrupted, .progress-bar-interrupted::-webkit-progress-bar {\n",
       "        background: #F44336;\n",
       "    }\n",
       "</style>\n"
      ],
      "text/plain": [
       "<IPython.core.display.HTML object>"
      ]
     },
     "metadata": {},
     "output_type": "display_data"
    },
    {
     "data": {
      "text/html": [
       "\n",
       "    <div>\n",
       "      <progress value='16000' class='' max='16000' style='width:300px; height:20px; vertical-align: middle;'></progress>\n",
       "      100.00% [16000/16000 00:49&lt;00:00 Sampling 4 chains, 0 divergences]\n",
       "    </div>\n",
       "    "
      ],
      "text/plain": [
       "<IPython.core.display.HTML object>"
      ]
     },
     "metadata": {},
     "output_type": "display_data"
    },
    {
     "name": "stderr",
     "output_type": "stream",
     "text": [
      "Sampling 4 chains for 3_000 tune and 1_000 draw iterations (12_000 + 4_000 draws total) took 50 seconds.\n"
     ]
    },
    {
     "data": {
      "text/plain": [
       "<motuba.Motuba at 0x7f7229fbb790>"
      ]
     },
     "execution_count": 14,
     "metadata": {},
     "output_type": "execute_result"
    }
   ],
   "source": [
    "fb_stuff_model.fit(X=X_fit, y=y_fit, N_x=N_x_fit, N_y=N_y_fit, age_col=\"age\")"
   ]
  },
  {
   "cell_type": "markdown",
   "metadata": {},
   "source": [
    "Fitting them model can take anywhere from seconds to hours, depending on how much data you are using. This example should only take a couple of minutes on a modern machine like an M1 Mac.\n",
    "\n",
    "What you see above is the output from the underlying PyMC model being fit using Markov chain Monte Carlo (specifically, the NUTS algorithm). You want to keep an eye on this output for any warning messages that may require additional intervention in order to improve the model. This example should run fine under the default conditions."
   ]
  },
  {
   "cell_type": "markdown",
   "metadata": {},
   "source": [
    "## Model Checking\n",
    "\n",
    "Even in the absence of warnings, its always important to check your model. In model checking, we want to know at least two things: did the model fitting algorithm work, and does the model fit the data adequately.\n",
    "\n",
    "For the first part, we want to do **convergence diagnostics** because we have used a stochastic sampling approach (MCMC) to fit the model. That is, we want some assurance that the sampler *converged* to what the model specifies as the posterior distribution. This implies that the algorithm has had a chance to adequately explore the parameter space of the model. \n",
    "\n",
    "The `check_convergence` method will produce an **energy plot** of the fiitted model that gived a visual indication as to whether the model has been able to freely explore the parameter space. You will see two distributions: a marginal energy distribution and an energy transition distribution. Its not important to understand exactly what these are, but you are looking for these two distribtions to mostly overlap, as they should below. When they do not, the difference is usually rather dramatic. The plot below should be close enough."
   ]
  },
  {
   "cell_type": "code",
   "execution_count": 15,
   "metadata": {},
   "outputs": [
    {
     "data": {
      "image/png": "[encoded data removed]",
      "text/plain": [
       "<Figure size 640x480 with 1 Axes>"
      ]
     },
     "metadata": {},
     "output_type": "display_data"
    }
   ],
   "source": [
    "fb_stuff_model.check_convergence();"
   ]
  },
  {
   "cell_type": "markdown",
   "metadata": {},
   "source": [
    "If we are satisfied that the model has converged, we can move on to the model fit. This is largely the same idea as a model **calibration** check: seeing whether the model predictions correspond adequately to observed values. Since we have a Bayesian model, we can use **posterior predictive checks** for this. This involves simulating several datasets from the model, and comparing the simulated datasets to the actual observed data (in this case, the data used to fit the model). If the model fits, we would expect the observed data to be indistinguishable from some random draw from the model.\n",
    "\n",
    "The `check_calibration` method automates this for you, generating a visual check whereby a cloud of lines representing a thousand or so simulated datasets are plotted as blue lines alongside the observed data as a thick black line. "
   ]
  },
  {
   "cell_type": "code",
   "execution_count": 16,
   "metadata": {},
   "outputs": [
    {
     "name": "stderr",
     "output_type": "stream",
     "text": [
      "Sampling: [prediction_like, theta_like]\n"
     ]
    },
    {
     "data": {
      "text/html": [
       "\n",
       "<style>\n",
       "    /* Turns off some styling */\n",
       "    progress {\n",
       "        /* gets rid of default border in Firefox and Opera. */\n",
       "        border: none;\n",
       "        /* Needs to be in here for Safari polyfill so background images work as expected. */\n",
       "        background-size: auto;\n",
       "    }\n",
       "    progress:not([value]), progress:not([value])::-webkit-progress-bar {\n",
       "        background: repeating-linear-gradient(45deg, #7e7e7e, #7e7e7e 10px, #5c5c5c 10px, #5c5c5c 20px);\n",
       "    }\n",
       "    .progress-bar-interrupted, .progress-bar-interrupted::-webkit-progress-bar {\n",
       "        background: #F44336;\n",
       "    }\n",
       "</style>\n"
      ],
      "text/plain": [
       "<IPython.core.display.HTML object>"
      ]
     },
     "metadata": {},
     "output_type": "display_data"
    },
    {
     "data": {
      "text/html": [
       "\n",
       "    <div>\n",
       "      <progress value='4000' class='' max='4000' style='width:300px; height:20px; vertical-align: middle;'></progress>\n",
       "      100.00% [4000/4000 00:01&lt;00:00]\n",
       "    </div>\n",
       "    "
      ],
      "text/plain": [
       "<IPython.core.display.HTML object>"
      ]
     },
     "metadata": {},
     "output_type": "display_data"
    },
    {
     "data": {
      "image/png": "[encoded data removed]",
      "text/plain": [
       "<Figure size 640x480 with 1 Axes>"
      ]
     },
     "metadata": {},
     "output_type": "display_data"
    }
   ],
   "source": [
    "fb_stuff_model.check_calibration();"
   ]
  },
  {
   "cell_type": "markdown",
   "metadata": {},
   "source": [
    "## Generating Projections\n",
    "\n",
    "Once we have checked the model and are comfortable with the evaluation, we can use it to generate projections on data it has not yet seen. Again, this will typically be for data leading up to the upcoming season, but here we are just going to use the holdout subset, `pred_pitchers`."
   ]
  },
  {
   "cell_type": "code",
   "execution_count": 17,
   "metadata": {},
   "outputs": [],
   "source": [
    "X_pred = X.loc[pred_pitchers]\n",
    "N_x_pred = N_x.loc[pred_pitchers]\n",
    "N_y_pred = N_y.loc[pred_pitchers]"
   ]
  },
  {
   "cell_type": "markdown",
   "metadata": {},
   "source": [
    "The `predict` method has nearly identical arguments to `fit` except we do not have `y` values, since this is what we are trying to forecast. Note that `N_y` is required, though this may be some hypothetical/average value, such as 600 plate appearances or 2000 pitches."
   ]
  },
  {
   "cell_type": "code",
   "execution_count": 18,
   "metadata": {},
   "outputs": [
    {
     "name": "stderr",
     "output_type": "stream",
     "text": [
      "Sampling: []\n"
     ]
    },
    {
     "data": {
      "text/html": [
       "\n",
       "<style>\n",
       "    /* Turns off some styling */\n",
       "    progress {\n",
       "        /* gets rid of default border in Firefox and Opera. */\n",
       "        border: none;\n",
       "        /* Needs to be in here for Safari polyfill so background images work as expected. */\n",
       "        background-size: auto;\n",
       "    }\n",
       "    progress:not([value]), progress:not([value])::-webkit-progress-bar {\n",
       "        background: repeating-linear-gradient(45deg, #7e7e7e, #7e7e7e 10px, #5c5c5c 10px, #5c5c5c 20px);\n",
       "    }\n",
       "    .progress-bar-interrupted, .progress-bar-interrupted::-webkit-progress-bar {\n",
       "        background: #F44336;\n",
       "    }\n",
       "</style>\n"
      ],
      "text/plain": [
       "<IPython.core.display.HTML object>"
      ]
     },
     "metadata": {},
     "output_type": "display_data"
    },
    {
     "data": {
      "text/html": [
       "\n",
       "    <div>\n",
       "      <progress value='4000' class='' max='4000' style='width:300px; height:20px; vertical-align: middle;'></progress>\n",
       "      100.00% [4000/4000 00:00&lt;00:00]\n",
       "    </div>\n",
       "    "
      ],
      "text/plain": [
       "<IPython.core.display.HTML object>"
      ]
     },
     "metadata": {},
     "output_type": "display_data"
    }
   ],
   "source": [
    "predicted_fb_stuff = fb_stuff_model.predict(X=X_pred, N_x=N_x_pred, N_y=N_y_pred)"
   ]
  },
  {
   "cell_type": "markdown",
   "metadata": {},
   "source": [
    "`predict` returns a `DataFrame` of projected values, along with their posterior standard deviation and a 90% prediction interval."
   ]
  },
  {
   "cell_type": "code",
   "execution_count": 19,
   "metadata": {},
   "outputs": [
    {
     "data": {
      "image/png": "[encoded data removed]",
      "text/plain": [
       "<Figure size 640x480 with 1 Axes>"
      ]
     },
     "metadata": {},
     "output_type": "display_data"
    }
   ],
   "source": [
    "projection = pd.DataFrame(dict(projection=predicted_fb_stuff['mean'].values, observed=y.loc[pred_pitchers].values))\n",
    "ax = sns.scatterplot(x='projection', y='observed', data=projection)\n",
    "ax.axline((0, 0), slope=1);"
   ]
  },
  {
   "cell_type": "markdown",
   "metadata": {},
   "source": [
    "You may be interested in the weights being used by your model to generate the projections. The `get_weights` will return the posterior estimates of the weights, in temporal order from the first year `w[0]` to last `w[2]`. We generally expect the weights to be larger the closer they are to the projection year."
   ]
  },
  {
   "cell_type": "code",
   "execution_count": 20,
   "metadata": {},
   "outputs": [
    {
     "data": {
      "text/html": [
       "<div>\n",
       "<style scoped>\n",
       "    .dataframe tbody tr th:only-of-type {\n",
       "        vertical-align: middle;\n",
       "    }\n",
       "\n",
       "    .dataframe tbody tr th {\n",
       "        vertical-align: top;\n",
       "    }\n",
       "\n",
       "    .dataframe thead th {\n",
       "        text-align: right;\n",
       "    }\n",
       "</style>\n",
       "<table border=\"1\" class=\"dataframe\">\n",
       "  <thead>\n",
       "    <tr style=\"text-align: right;\">\n",
       "      <th></th>\n",
       "      <th>mean</th>\n",
       "      <th>sd</th>\n",
       "    </tr>\n",
       "  </thead>\n",
       "  <tbody>\n",
       "    <tr>\n",
       "      <th>w[0]</th>\n",
       "      <td>0.275</td>\n",
       "      <td>0.042</td>\n",
       "    </tr>\n",
       "    <tr>\n",
       "      <th>w[1]</th>\n",
       "      <td>0.326</td>\n",
       "      <td>0.053</td>\n",
       "    </tr>\n",
       "    <tr>\n",
       "      <th>w[2]</th>\n",
       "      <td>0.400</td>\n",
       "      <td>0.040</td>\n",
       "    </tr>\n",
       "  </tbody>\n",
       "</table>\n",
       "</div>"
      ],
      "text/plain": [
       "       mean     sd\n",
       "w[0]  0.275  0.042\n",
       "w[1]  0.326  0.053\n",
       "w[2]  0.400  0.040"
      ]
     },
     "execution_count": 20,
     "metadata": {},
     "output_type": "execute_result"
    }
   ],
   "source": [
    "fb_stuff_model.get_weights()"
   ]
  },
  {
   "cell_type": "markdown",
   "metadata": {},
   "source": [
    "## Binomial Model\n",
    "\n",
    "The default normal model is only suitable for continuous-valued quantities that can be reasonably modeled with a normal likelihood, such as stuff, velocity, or WAR. Sometimes we are interested in projecting rates, which involve binomial data, for example, home run rate, K rate, etc. For this, Motuba also had a binomial model.\n",
    "\n"
   ]
  },
  {
   "cell_type": "code",
   "execution_count": 21,
   "metadata": {},
   "outputs": [
    {
     "name": "stderr",
     "output_type": "stream",
     "text": [
      "Downloading: 100%|██████████| 477782/477782 [00:33<00:00, 14065.38rows/s]\n"
     ]
    }
   ],
   "source": [
    "pred_year = 2021\n",
    "\n",
    "query_string = f\"\"\"\n",
    "SELECT  \n",
    "  pa.bam_id,\n",
    "  pa.season - EXTRACT(YEAR FROM pp.birth_date) age,\n",
    "  pa.season,\n",
    "  pa.k_pct,\n",
    "  pa.k,\n",
    "  pa.tbf\n",
    "FROM stats.stats_player_pitching_bylevel pa\n",
    "JOIN mesa.player pp USING (bam_id)\n",
    "WHERE pa.game_type = 'R'\n",
    "    AND pa.source = 'gumbo'\n",
    "    AND pa.level = 'MLB'\n",
    "    AND pa.season > {pred_year} - 4\n",
    "\"\"\"\n",
    "\n",
    "input_data = pandas_gbq.read_gbq(query_string, project_id=\"phil-new\").drop_duplicates(subset=['bam_id', 'season'])\n",
    "\n",
    "input_grid = (\n",
    "    input_data[\n",
    "        input_data.season.isin(np.arange(pred_year - 3, pred_year + 1))\n",
    "    ]\n",
    "    .pivot(index=\"bam_id\", columns=\"season\", values=[\"k\", \"tbf\", \"age\"])\n",
    "    .dropna()\n",
    ")"
   ]
  },
  {
   "cell_type": "code",
   "execution_count": 22,
   "metadata": {},
   "outputs": [],
   "source": [
    "X = input_grid['k'].copy()\n",
    "y = X.pop(pred_year)\n",
    "N_x = input_grid['tbf'].copy()\n",
    "N_y = N_x.pop(pred_year)\n",
    "X[\"age\"] = input_grid[(\"age\", pred_year)]"
   ]
  },
  {
   "cell_type": "code",
   "execution_count": 23,
   "metadata": {},
   "outputs": [],
   "source": [
    "all_pitchers = X.index.unique().values\n",
    "fit_pitchers = all_pitchers[:int(len(all_pitchers)*0.8)]\n",
    "pred_pitchers = all_pitchers[int(len(all_pitchers)*0.8):]"
   ]
  },
  {
   "cell_type": "code",
   "execution_count": 24,
   "metadata": {},
   "outputs": [],
   "source": [
    "k_pct_model = Motuba(model_type='binomial')"
   ]
  },
  {
   "cell_type": "code",
   "execution_count": 25,
   "metadata": {},
   "outputs": [],
   "source": [
    "X_fit = X.loc[fit_pitchers].astype(int)\n",
    "y_fit = y.loc[fit_pitchers].astype(int)\n",
    "\n",
    "N_x_fit = N_x.loc[fit_pitchers].astype(int)\n",
    "N_y_fit = N_y.loc[fit_pitchers].astype(int)"
   ]
  },
  {
   "cell_type": "code",
   "execution_count": 26,
   "metadata": {},
   "outputs": [
    {
     "name": "stderr",
     "output_type": "stream",
     "text": [
      "Auto-assigning NUTS sampler...\n",
      "Initializing NUTS using jitter+adapt_diag...\n",
      "Multiprocess sampling (4 chains in 4 jobs)\n",
      "NUTS: [mu, tau, z, w, beta]\n"
     ]
    },
    {
     "data": {
      "text/html": [
       "\n",
       "<style>\n",
       "    /* Turns off some styling */\n",
       "    progress {\n",
       "        /* gets rid of default border in Firefox and Opera. */\n",
       "        border: none;\n",
       "        /* Needs to be in here for Safari polyfill so background images work as expected. */\n",
       "        background-size: auto;\n",
       "    }\n",
       "    progress:not([value]), progress:not([value])::-webkit-progress-bar {\n",
       "        background: repeating-linear-gradient(45deg, #7e7e7e, #7e7e7e 10px, #5c5c5c 10px, #5c5c5c 20px);\n",
       "    }\n",
       "    .progress-bar-interrupted, .progress-bar-interrupted::-webkit-progress-bar {\n",
       "        background: #F44336;\n",
       "    }\n",
       "</style>\n"
      ],
      "text/plain": [
       "<IPython.core.display.HTML object>"
      ]
     },
     "metadata": {},
     "output_type": "display_data"
    },
    {
     "data": {
      "text/html": [
       "\n",
       "    <div>\n",
       "      <progress value='16000' class='' max='16000' style='width:300px; height:20px; vertical-align: middle;'></progress>\n",
       "      100.00% [16000/16000 01:24&lt;00:00 Sampling 4 chains, 0 divergences]\n",
       "    </div>\n",
       "    "
      ],
      "text/plain": [
       "<IPython.core.display.HTML object>"
      ]
     },
     "metadata": {},
     "output_type": "display_data"
    },
    {
     "name": "stderr",
     "output_type": "stream",
     "text": [
      "Sampling 4 chains for 3_000 tune and 1_000 draw iterations (12_000 + 4_000 draws total) took 85 seconds.\n"
     ]
    },
    {
     "data": {
      "text/plain": [
       "<motuba.Motuba at 0x7f721916d840>"
      ]
     },
     "execution_count": 26,
     "metadata": {},
     "output_type": "execute_result"
    }
   ],
   "source": [
    "k_pct_model.fit(X=X_fit, y=y_fit, N_x=N_x_fit, N_y=N_y_fit, age_col=\"age\")"
   ]
  },
  {
   "cell_type": "code",
   "execution_count": 27,
   "metadata": {},
   "outputs": [
    {
     "data": {
      "image/png": "[encoded data removed]",
      "text/plain": [
       "<Figure size 640x480 with 1 Axes>"
      ]
     },
     "metadata": {},
     "output_type": "display_data"
    }
   ],
   "source": [
    "k_pct_model.check_convergence();"
   ]
  },
  {
   "cell_type": "code",
   "execution_count": 28,
   "metadata": {},
   "outputs": [
    {
     "data": {
      "text/html": [
       "<div>\n",
       "<style scoped>\n",
       "    .dataframe tbody tr th:only-of-type {\n",
       "        vertical-align: middle;\n",
       "    }\n",
       "\n",
       "    .dataframe tbody tr th {\n",
       "        vertical-align: top;\n",
       "    }\n",
       "\n",
       "    .dataframe thead th {\n",
       "        text-align: right;\n",
       "    }\n",
       "</style>\n",
       "<table border=\"1\" class=\"dataframe\">\n",
       "  <thead>\n",
       "    <tr style=\"text-align: right;\">\n",
       "      <th></th>\n",
       "      <th>mean</th>\n",
       "      <th>sd</th>\n",
       "    </tr>\n",
       "  </thead>\n",
       "  <tbody>\n",
       "    <tr>\n",
       "      <th>w[0]</th>\n",
       "      <td>0.293</td>\n",
       "      <td>0.025</td>\n",
       "    </tr>\n",
       "    <tr>\n",
       "      <th>w[1]</th>\n",
       "      <td>0.374</td>\n",
       "      <td>0.027</td>\n",
       "    </tr>\n",
       "    <tr>\n",
       "      <th>w[2]</th>\n",
       "      <td>0.333</td>\n",
       "      <td>0.024</td>\n",
       "    </tr>\n",
       "  </tbody>\n",
       "</table>\n",
       "</div>"
      ],
      "text/plain": [
       "       mean     sd\n",
       "w[0]  0.293  0.025\n",
       "w[1]  0.374  0.027\n",
       "w[2]  0.333  0.024"
      ]
     },
     "execution_count": 28,
     "metadata": {},
     "output_type": "execute_result"
    }
   ],
   "source": [
    "k_pct_model.get_weights()"
   ]
  },
  {
   "cell_type": "code",
   "execution_count": 29,
   "metadata": {},
   "outputs": [],
   "source": [
    "X_pred = X.loc[pred_pitchers].astype(int)\n",
    "N_x_pred = N_x.loc[pred_pitchers].astype(int)\n",
    "N_y_pred = N_y.loc[pred_pitchers].astype(int)"
   ]
  },
  {
   "cell_type": "code",
   "execution_count": 30,
   "metadata": {},
   "outputs": [
    {
     "name": "stderr",
     "output_type": "stream",
     "text": [
      "Sampling: []\n"
     ]
    },
    {
     "data": {
      "text/html": [
       "\n",
       "<style>\n",
       "    /* Turns off some styling */\n",
       "    progress {\n",
       "        /* gets rid of default border in Firefox and Opera. */\n",
       "        border: none;\n",
       "        /* Needs to be in here for Safari polyfill so background images work as expected. */\n",
       "        background-size: auto;\n",
       "    }\n",
       "    progress:not([value]), progress:not([value])::-webkit-progress-bar {\n",
       "        background: repeating-linear-gradient(45deg, #7e7e7e, #7e7e7e 10px, #5c5c5c 10px, #5c5c5c 20px);\n",
       "    }\n",
       "    .progress-bar-interrupted, .progress-bar-interrupted::-webkit-progress-bar {\n",
       "        background: #F44336;\n",
       "    }\n",
       "</style>\n"
      ],
      "text/plain": [
       "<IPython.core.display.HTML object>"
      ]
     },
     "metadata": {},
     "output_type": "display_data"
    },
    {
     "data": {
      "text/html": [
       "\n",
       "    <div>\n",
       "      <progress value='4000' class='' max='4000' style='width:300px; height:20px; vertical-align: middle;'></progress>\n",
       "      100.00% [4000/4000 00:00&lt;00:00]\n",
       "    </div>\n",
       "    "
      ],
      "text/plain": [
       "<IPython.core.display.HTML object>"
      ]
     },
     "metadata": {},
     "output_type": "display_data"
    }
   ],
   "source": [
    "predicted_k_pct = k_pct_model.predict(X=X_pred, N_x=N_x_pred, N_y=N_y_pred)"
   ]
  },
  {
   "cell_type": "code",
   "execution_count": 31,
   "metadata": {},
   "outputs": [
    {
     "data": {
      "text/plain": [
       "<matplotlib.lines._AxLine at 0x7f71db7861a0>"
      ]
     },
     "execution_count": 31,
     "metadata": {},
     "output_type": "execute_result"
    },
    {
     "data": {
      "image/png": "[encoded data removed]",
      "text/plain": [
       "<Figure size 640x480 with 1 Axes>"
      ]
     },
     "metadata": {},
     "output_type": "display_data"
    }
   ],
   "source": [
    "projection = pd.DataFrame(dict(projection=predicted_k_pct['mean'].values, observed=(y/N_y).loc[pred_pitchers].values))\n",
    "ax = sns.scatterplot(x='projection', y='observed', data=projection)\n",
    "ax.axline((0.1, 0.1), slope=1)"
   ]
  },
  {
   "cell_type": "markdown",
   "metadata": {},
   "source": [
    "## When Things Go Wrong\n",
    "\n",
    "With such a simple model that attempts to project almost anything, inevitably things will go wrong with certain datasets. The first place to look for symptoms of a problem are in the warnings during model fitting. For example, you may read something along the lines of:\n",
    "\n",
    "> UserWarning: Chain 0 contains 6 diverging samples after tuning. Increase `target_accept` or reparameterize.\n",
    "\n",
    "This means that the model is (occasionally) having trouble sampling from the model, which results in a **diverging** sample. If this happens only a few times (6 is not many!) things are probably okay, but if there are hundreds or even entirely divergent samples, you will not be able to reliably use inference from the model. \n",
    "\n",
    "The underlying PyMC model tries to give advice when it can: while you cannot reparameterize this model, it is possible to change the `target_accept` parameter by passing it to `fit`.  \n",
    "\n",
    "    fb_stuff_model.fit(X=X_fit, y=y_fit, N_x=N_x_fit, N_y=N_y_fit, age_col=\"age\", target_accept=0.99)\n",
    "\n",
    "`target_accept` is the target acceptance rate of the MCMC algorithm, which by default is 0.8. For difficult models, upping this value to 0.9, 0.95 or 0.99 can sometimes solve this issue. Note that higher acceptance rates result in longer runtimes, since it involves taking more steps at every iteration of the model.\n",
    "\n",
    "If you run into issues with convergence, for example if the energy plots do not look slimiar, the easiest remedy is to run the MCMC model longer--specifically, to add more **tuning steps**. The default number is 3000 tuning steps, but you can change this with the `tune` argument.\n",
    "\n",
    "    fb_stuff_model.fit(X=X_fit, y=y_fit, N_x=N_x_fit, N_y=N_y_fit, age_col=\"age\", tune=5000)\n",
    "\n",
    "Of course, there will be some scenarios where Motuba will just not work. If there are issues with the data (e.g. missing values), or the data do not conform to one of the data generating models used in Motuba then you may need to build a bespoke model to account for the particular characteristics of the quantity you are trying to project.\n"
   ]
  },
  {
   "cell_type": "markdown",
   "metadata": {},
   "source": [
    "---\n",
    "\n",
    "## References\n",
    "\n",
    "- [Tango on Baseball](https://tangotiger.net/marcel/)\n",
    "- [Baseball-Reference.com](https://www.baseball-reference.com/about/marcels.shtml)\n"
   ]
  },
  {
   "cell_type": "code",
   "execution_count": 1,
   "metadata": {},
   "outputs": [
    {
     "name": "stdout",
     "output_type": "stream",
     "text": [
      "Last updated: Mon Jun 10 2024\n",
      "\n",
      "Python implementation: CPython\n",
      "Python version       : 3.11.8\n",
      "IPython version      : 8.22.2\n",
      "\n",
      "Watermark: 2.4.3\n",
      "\n"
     ]
    }
   ],
   "source": [
    "%load_ext watermark\n",
    "%watermark -n -u -v -iv -w"
   ]
  }
 ],
 "metadata": {
  "kernelspec": {
   "display_name": "pie",
   "language": "python",
   "name": "python3"
  },
  "language_info": {
   "codemirror_mode": {
    "name": "ipython",
    "version": 3
   },
   "file_extension": ".py",
   "mimetype": "text/x-python",
   "name": "python",
   "nbconvert_exporter": "python",
   "pygments_lexer": "ipython3",
   "version": "3.11.8"
  },
  "orig_nbformat": 4,
  "vscode": {
   "interpreter": {
    "hash": "eafa8712ee4401d2ae83c1c70ac3b6789be55a01025a1315f919d35a63c4fe47"
   }
  }
 },
 "nbformat": 4,
 "nbformat_minor": 2
}
